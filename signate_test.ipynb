{
  "nbformat": 4,
  "nbformat_minor": 0,
  "metadata": {
    "colab": {
      "provenance": [],
      "authorship_tag": "ABX9TyPdr0YVDkEgVht1pecSjAAu",
      "include_colab_link": true
    },
    "kernelspec": {
      "name": "python3",
      "display_name": "Python 3"
    },
    "language_info": {
      "name": "python"
    }
  },
  "cells": [
    {
      "cell_type": "markdown",
      "metadata": {
        "id": "view-in-github",
        "colab_type": "text"
      },
      "source": [
        "<a href=\"https://colab.research.google.com/github/kngkmsg/signate/blob/main/signate_test.ipynb\" target=\"_parent\"><img src=\"https://colab.research.google.com/assets/colab-badge.svg\" alt=\"Open In Colab\"/></a>"
      ]
    },
    {
      "cell_type": "code",
      "execution_count": null,
      "metadata": {
        "id": "LBdubk60J7p3"
      },
      "outputs": [],
      "source": [
        "# 🖋 Signateのテンプレート作成\n",
        "# 作成日：2025/05/07\n",
        "# 更新日：2025/05/08\n",
        "# 内容：テンプレ作成／マウント処理追加／\n",
        "\n",
        "# Google Driveへのマウント処理\n",
        "import os\n",
        "from google.colab import drive\n",
        "\n",
        "def safe_mount_drive():\n",
        "    try:\n",
        "        from google.colab import drive\n",
        "        if not os.path.ismount('/content/drive'):\n",
        "            drive.mount('/content/drive')\n",
        "            print(\"✅ Google Driveが正常にマウントされました。\")\n",
        "        else:\n",
        "            print(\"✅ Google Driveは既にマウントされています。\")\n",
        "    except ImportError:\n",
        "        print(\"⚠️ このコードはColab専用です。ローカル環境では不要です。\")\n",
        "safe_mount_drive()\n",
        "\n",
        "# === 0. ライブラリのインポート ===\n",
        "import pandas as pd\n",
        "import matplotlib.pyplot as plt\n",
        "\n",
        "# === 1. データの読み込み ===\n",
        "# Colabで使う場合は先にファイルをアップロードしておく\n",
        "# ⚠️ファイル名をコンペに応じて調整⚠️\n",
        "train = pd.read_csv(\"/content/drive/MyDrive/お弁当販売予測_train.csv\")\n",
        "test = pd.read_csv(\"/content/drive/MyDrive/お弁当販売予測_test.csv\")\n",
        "\n",
        "# === 2. データの基本情報の確認 ===\n",
        "print(\"【データのサイズ】\")\n",
        "print(\"train:\", train.shape)\n",
        "print(\"test :\", test.shape)\n",
        "\n",
        "print(\"\\n【データの概要（型・欠損）】\")\n",
        "print(train.info())\n",
        "\n",
        "print(\"\\n【先頭5行の確認】\")\n",
        "print(train.head())\n",
        "\n",
        "# === 3. 欠損値のチェック ===\n",
        "print(\"\\n【欠損値のある列】\")\n",
        "missing = train.isnull().sum()\n",
        "missing = missing[missing > 0]\n",
        "print(missing)\n",
        "\n",
        "# === 4. ターゲット（目的変数）の基本統計量 ===\n",
        "# ⚠️ターゲットカラム名をコンペに応じて調整⚠️\n",
        "target_col = '取引価格（総額）'\n",
        "\n",
        "print(\"\\n【目的変数の基本統計】\")\n",
        "print(train[target_col].describe())\n",
        "\n",
        "# === 5. ターゲットの分布をヒストグラムで確認 ===\n",
        "plt.hist(train[target_col], bins=50)\n",
        "plt.title(\"取引価格（総額）の分布\")\n",
        "plt.xlabel(\"価格\")\n",
        "plt.ylabel(\"件数\")\n",
        "plt.grid(True)\n",
        "plt.show()\n"
      ]
    },
    {
      "cell_type": "markdown",
      "source": [
        "**以下テスト**"
      ],
      "metadata": {
        "id": "A4apfB7gyKU0"
      }
    },
    {
      "cell_type": "code",
      "execution_count": null,
      "metadata": {
        "id": "t1gsYJNp7kcv"
      },
      "outputs": [],
      "source": [
        "# ⚠️テンプレートテスト中⚠️\n",
        "\n",
        "# 🖋 Signateのテンプレート作成・テスト中_2025/05/07〜\n",
        "\n",
        "# Google Driveへのマウント処理\n",
        "import os\n",
        "from google.colab import drive\n",
        "\n",
        "def safe_mount_drive():\n",
        "    try:\n",
        "        from google.colab import drive\n",
        "        if not os.path.ismount('/content/drive'):\n",
        "            drive.mount('/content/drive')\n",
        "            print(\"✅ Google Driveが正常にマウントされました。\")\n",
        "        else:\n",
        "            print(\"✅ Google Driveは既にマウントされています。\")\n",
        "    except ImportError:\n",
        "        print(\"⚠️ このコードはColab専用です。ローカル環境では不要です。\")\n",
        "safe_mount_drive()\n",
        "\n",
        "# === 0. ライブラリのインポート ===\n",
        "import pandas as pd\n",
        "import matplotlib.pyplot as plt\n",
        "\n",
        "# === 1. データの読み込み ===\n",
        "# Colabで使う場合は先にファイルをアップロードしておく\n",
        "# ⚠️ファイル名をコンペに応じて調整⚠️\n",
        "train = pd.read_csv(\"/content/drive/MyDrive/お弁当販売予測_train.csv\")\n",
        "test = pd.read_csv(\"/content/drive/MyDrive/お弁当販売予測_test.csv\")\n",
        "\n",
        "# === 2. データの基本情報の確認 ===\n",
        "print(\"【データのサイズ】\")\n",
        "print(\"train:\", train.shape)\n",
        "print(\"test :\", test.shape)\n",
        "\n",
        "print(\"\\n【データの概要（型・欠損）】\")\n",
        "print(train.info())\n",
        "\n",
        "print(\"\\n【先頭5行の確認】\")\n",
        "print(train.head())\n",
        "\n",
        "# === 3. 欠損値のチェック ===\n",
        "print(\"\\n【欠損値のある列】\")\n",
        "missing = train.isnull().sum()\n",
        "missing = missing[missing > 0]\n",
        "print(missing)\n",
        "\n",
        "# === 4. ターゲット（目的変数）の基本統計量 ===\n",
        "# ⚠️ターゲットカラム名をコンペに応じて調整⚠️\n",
        "target_col = 'y'\n",
        "\n",
        "print(\"\\n【目的変数の基本統計】\")\n",
        "print(train[target_col].describe())\n",
        "\n",
        "# === 5. ターゲットの分布をヒストグラムで確認 ===\n",
        "plt.hist(train[target_col], bins=50)\n",
        "plt.title(\"取引価格（総額）の分布\")\n",
        "plt.title(\"y の分布\")\n",
        "plt.xlabel(\"y（予測対象）\")\n",
        "plt.grid(True)\n",
        "plt.show()\n"
      ]
    }
  ]
}