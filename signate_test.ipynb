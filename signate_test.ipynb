{
  "nbformat": 4,
  "nbformat_minor": 0,
  "metadata": {
    "colab": {
      "provenance": [],
      "authorship_tag": "ABX9TyORj0YkEnsfZE5MqtyFItNO",
      "include_colab_link": true
    },
    "kernelspec": {
      "name": "python3",
      "display_name": "Python 3"
    },
    "language_info": {
      "name": "python"
    }
  },
  "cells": [
    {
      "cell_type": "markdown",
      "metadata": {
        "id": "view-in-github",
        "colab_type": "text"
      },
      "source": [
        "<a href=\"https://colab.research.google.com/github/kngkmsg/signate/blob/main/signate_test.ipynb\" target=\"_parent\"><img src=\"https://colab.research.google.com/assets/colab-badge.svg\" alt=\"Open In Colab\"/></a>"
      ]
    },
    {
      "cell_type": "code",
      "execution_count": null,
      "metadata": {
        "id": "LBdubk60J7p3"
      },
      "outputs": [],
      "source": [
        "# 🖋 Signateのテンプレート作成\n",
        "# 作成日：2025/05/07\n",
        "# 更新日：2025/05/08\n",
        "# 内容：テンプレ作成／マウント処理追加／\n",
        "\n",
        "# Google Driveへのマウント処理\n",
        "import os\n",
        "from google.colab import drive\n",
        "\n",
        "def safe_mount_drive():\n",
        "    try:\n",
        "        from google.colab import drive\n",
        "        if not os.path.ismount('/content/drive'):\n",
        "            drive.mount('/content/drive')\n",
        "            print(\"✅ Google Driveが正常にマウントされました。\")\n",
        "        else:\n",
        "            print(\"✅ Google Driveは既にマウントされています。\")\n",
        "    except ImportError:\n",
        "        print(\"⚠️ このコードはColab専用です。ローカル環境では不要です。\")\n",
        "safe_mount_drive()\n",
        "\n",
        "# === 0. ライブラリのインポート ===\n",
        "import pandas as pd\n",
        "import matplotlib.pyplot as plt\n",
        "\n",
        "# === 1. データの読み込み ===\n",
        "# Colabで使う場合は先にファイルをアップロードしておく\n",
        "# ⚠️ファイル名をコンペに応じて調整⚠️\n",
        "train = pd.read_csv(\"/content/drive/MyDrive/train.csv\")\n",
        "test = pd.read_csv(\"/content/drive/MyDrive/test.csv\")\n",
        "\n",
        "# === 2. データの基本情報の確認 ===\n",
        "print(\"【データのサイズ】\")\n",
        "print(\"train:\", train.shape)\n",
        "print(\"test :\", test.shape)\n",
        "\n",
        "print(\"\\n【データの概要（型・欠損）】\")\n",
        "print(train.info())\n",
        "\n",
        "print(\"\\n【先頭5行の確認】\")\n",
        "print(train.head())\n",
        "\n",
        "# === 3. 欠損値のチェック ===\n",
        "print(\"\\n【欠損値のある列】\")\n",
        "missing = train.isnull().sum()\n",
        "missing = missing[missing > 0]\n",
        "print(missing)\n",
        "\n",
        "# === 4. ターゲット（目的変数）の基本統計量 ===\n",
        "# ⚠️ターゲットカラム名をコンペに応じて調整⚠️\n",
        "target_col = '取引価格（総額）'\n",
        "\n",
        "print(\"\\n【目的変数の基本統計】\")\n",
        "print(train[target_col].describe())\n",
        "\n",
        "# === 5. ターゲットの分布をヒストグラムで確認 ===\n",
        "plt.hist(train[target_col], bins=50)\n",
        "plt.title(\"取引価格（総額）の分布\")\n",
        "plt.xlabel(\"価格\")\n",
        "plt.ylabel(\"件数\")\n",
        "plt.grid(True)\n",
        "plt.show()\n"
      ]
    },
    {
      "cell_type": "markdown",
      "source": [
        "**以下テスト**"
      ],
      "metadata": {
        "id": "A4apfB7gyKU0"
      }
    },
    {
      "cell_type": "code",
      "execution_count": null,
      "metadata": {
        "id": "t1gsYJNp7kcv"
      },
      "outputs": [],
      "source": [
        "# ⚠️テンプレートテスト中⚠️\n",
        "\n",
        "# 🖋 Signateのテンプレート作成・テスト中_2025/05/07〜\n",
        "\n",
        "# Google Driveへのマウント処理\n",
        "import os\n",
        "from google.colab import drive\n",
        "\n",
        "def safe_mount_drive():\n",
        "    try:\n",
        "        from google.colab import drive\n",
        "        if not os.path.ismount('/content/drive'):\n",
        "            drive.mount('/content/drive')\n",
        "            print(\"✅ Google Driveが正常にマウントされました。\")\n",
        "        else:\n",
        "            print(\"✅ Google Driveは既にマウントされています。\")\n",
        "    except ImportError:\n",
        "        print(\"⚠️ このコードはColab専用です。ローカル環境では不要です。\")\n",
        "safe_mount_drive()\n",
        "\n",
        "\n",
        "# === 0. ライブラリのインポート ===\n",
        "import pandas as pd\n",
        "import matplotlib.pyplot as plt\n",
        "\n",
        "# === 1. データの読み込み ===\n",
        "# Colabで使う場合は先にファイルをアップロードしておく\n",
        "# ⚠️ファイル名をコンペに応じて調整⚠️\n",
        "train = pd.read_csv(\"/content/drive/MyDrive/signate/お弁当販売予測_train.csv\")\n",
        "test = pd.read_csv(\"/content/drive/MyDrive/signate/お弁当販売予測_test.csv\")\n",
        "\n",
        "# === 2. データの基本情報の確認 ===\n",
        "print(\"【データのサイズ】\")\n",
        "print(\"train:\", train.shape)\n",
        "print(\"test :\", test.shape)\n",
        "\n",
        "print(\"\\n【データの概要（型・欠損）】\")\n",
        "print(train.info())\n",
        "\n",
        "print(\"\\n【先頭5行の確認】\")\n",
        "print(train.head())\n",
        "\n",
        "# === 3. 欠損値のチェック ===\n",
        "print(\"\\n【欠損値のある列】\")\n",
        "missing = train.isnull().sum()\n",
        "missing = missing[missing > 0]\n",
        "print(missing)\n",
        "\n",
        "# === 4. ターゲット（目的変数）の基本統計量 ===\n",
        "# ⚠️ターゲットカラム名をコンペに応じて調整⚠️\n",
        "target_col = 'y'\n",
        "\n",
        "print(\"\\n【目的変数の基本統計】\")\n",
        "print(train[target_col].describe())\n",
        "\n",
        "# === 5. ターゲットの分布をヒストグラムで確認 ===\n",
        "plt.hist(train[target_col], bins=50)\n",
        "plt.title(\"取引価格（総額）の分布\")\n",
        "plt.title(\"y の分布\")\n",
        "plt.xlabel(\"y（予測対象）\")\n",
        "plt.grid(True)\n",
        "plt.show()\n"
      ]
    },
    {
      "cell_type": "markdown",
      "source": [
        "下記5/11テスト中"
      ],
      "metadata": {
        "id": "-ecFjQYWMW_W"
      }
    },
    {
      "cell_type": "code",
      "source": [
        "import platform\n",
        "\n",
        "if platform.system() == \"Linux\":\n",
        "    # 日本語フォントのインストール\n",
        "    !apt-get -y install fonts-ipafont-gothic > /dev/null\n",
        "\n",
        "    # matplotlib のインポートと日本語フォントの設定\n",
        "    import matplotlib\n",
        "    import matplotlib.pyplot as plt\n",
        "    plt.rcParams['font.family'] = 'IPAGothic'\n"
      ],
      "metadata": {
        "id": "MBlcWb6BLj6l"
      },
      "execution_count": null,
      "outputs": []
    },
    {
      "cell_type": "code",
      "source": [
        "plt.title(\"日本語のグラフタイトル 🚀\")\n",
        "plt.plot([0, 1, 2], [1, 2, 3])\n",
        "plt.xlabel(\"X軸のラベル\")\n",
        "plt.ylabel(\"Y軸のラベル\")\n",
        "plt.grid(True)\n",
        "plt.show()"
      ],
      "metadata": {
        "id": "Jh2pWBzBLeG0"
      },
      "execution_count": null,
      "outputs": []
    },
    {
      "cell_type": "code",
      "source": [
        "import matplotlib.font_manager as fm\n",
        "for font in fm.findSystemFonts(fontpaths=None, fontext='ttf'):\n",
        "    if \"ipa\" in font.lower():\n",
        "        print(font)\n"
      ],
      "metadata": {
        "id": "5irQ0atIMG2i"
      },
      "execution_count": null,
      "outputs": []
    },
    {
      "cell_type": "code",
      "source": [
        "# ① 日本語フォント（IPAゴシック）をインストール\n",
        "!apt-get -y install fonts-ipafont-gothic > /dev/null\n",
        "\n",
        "# ② matplotlib のフォントキャッシュを更新\n",
        "import matplotlib\n",
        "matplotlib.font_manager._rebuild()\n",
        "\n",
        "# ③ matplotlib をインポートしてフォントを設定\n",
        "import matplotlib.pyplot as plt\n",
        "plt.rcParams['font.family'] = 'IPAGothic'\n",
        "\n",
        "# ④ 動作確認\n",
        "plt.title(\"テスト：日本語タイトル\")\n",
        "plt.plot([1, 2, 3], [4, 5, 6])\n",
        "plt.xlabel(\"X軸\")\n",
        "plt.ylabel(\"Y軸\")\n",
        "plt.grid(True)\n",
        "plt.show()\n"
      ],
      "metadata": {
        "id": "J5FVlG4LMbyS"
      },
      "execution_count": null,
      "outputs": []
    },
    {
      "cell_type": "code",
      "source": [
        "!apt-get -y install fonts-ipafont-gothic > /dev/null\n"
      ],
      "metadata": {
        "id": "Xf8gc24ARrZX"
      },
      "execution_count": null,
      "outputs": []
    },
    {
      "cell_type": "code",
      "source": [
        "import matplotlib.pyplot as plt\n",
        "plt.rcParams['font.family'] = 'IPAGothic'\n",
        "\n",
        "plt.title(\"日本語テスト\")\n",
        "plt.plot([1, 2, 3], [4, 5, 6])\n",
        "plt.xlabel(\"横軸\")\n",
        "plt.ylabel(\"縦軸\")\n",
        "plt.grid(True)\n",
        "plt.show()\n"
      ],
      "metadata": {
        "id": "ZA10_5q-R0jF"
      },
      "execution_count": null,
      "outputs": []
    },
    {
      "cell_type": "code",
      "source": [
        "import matplotlib.font_manager as fm\n",
        "fonts = [f.name for f in fm.fontManager.ttflist]\n",
        "[ipafont for ipafont in fonts if \"IPA\" in ipafont]\n"
      ],
      "metadata": {
        "id": "4xDa1-rqR9kq"
      },
      "execution_count": null,
      "outputs": []
    },
    {
      "cell_type": "code",
      "source": [
        "# ① フォントのインストール（非表示）\n",
        "!apt-get -y install fonts-ipafont-gothic > /dev/null\n",
        "\n",
        "# ② フォントファイルのパスを取得\n",
        "import matplotlib.pyplot as plt\n",
        "import matplotlib.font_manager as fm\n",
        "import os\n",
        "\n",
        "# IPAGothicフォントファイルのパスを取得（Colab環境用）\n",
        "font_path = \"/usr/share/fonts/truetype/ipafont-gothic/ipag.ttf\"\n",
        "\n",
        "# フォントが存在するか確認\n",
        "if os.path.exists(font_path):\n",
        "    font_prop = fm.FontProperties(fname=font_path)\n",
        "    plt.rcParams['font.family'] = font_prop.get_name()\n",
        "else:\n",
        "    print(\"フォントファイルが見つかりませんでした\")\n",
        "\n",
        "# ③ グラフを描画して日本語を確認\n",
        "plt.title(\"日本語が正しく表示されるかテスト\", fontproperties=font_prop)\n",
        "plt.xlabel(\"横軸：日付\", fontproperties=font_prop)\n",
        "plt.ylabel(\"縦軸：件数\", fontproperties=font_prop)\n",
        "plt.plot([1, 2, 3], [10, 20, 30])\n",
        "plt.grid(True)\n",
        "plt.show()\n"
      ],
      "metadata": {
        "id": "vT0oLVJlSgYf"
      },
      "execution_count": null,
      "outputs": []
    },
    {
      "cell_type": "code",
      "source": [
        "import matplotlib.pyplot as plt\n",
        "import matplotlib.font_manager as fm\n",
        "import os\n",
        "\n",
        "# ① フォントインストール（非表示）\n",
        "!apt-get -y install fonts-ipafont-gothic > /dev/null\n",
        "\n",
        "# ② フォントファイルのパスを指定\n",
        "font_path = \"/usr/share/fonts/truetype/ipafont-gothic/ipag.ttf\"\n",
        "\n",
        "# ③ フォントが見つかったかチェックして設定（失敗時は fallback）\n",
        "if os.path.exists(font_path):\n",
        "    font_prop = fm.FontProperties(fname=font_path)\n",
        "    plt.rcParams['font.family'] = font_prop.get_name()\n",
        "else:\n",
        "    print(\"❗ フォントファイルが見つかりませんでした。デフォルトフォントを使用します。\")\n",
        "    font_prop = None  # fallbackとしてNoneを代入\n",
        "\n",
        "# ④ グラフ描画\n",
        "plt.title(\"日本語のテスト\", fontproperties=font_prop)\n",
        "plt.xlabel(\"横軸\", fontproperties=font_prop)\n",
        "plt.ylabel(\"縦軸\", fontproperties=font_prop)\n",
        "plt.plot([1, 2, 3], [10, 20, 30])\n",
        "plt.grid(True)\n",
        "plt.show()\n"
      ],
      "metadata": {
        "id": "hn2WiPymTR5C"
      },
      "execution_count": null,
      "outputs": []
    },
    {
      "cell_type": "code",
      "source": [
        "import matplotlib.pyplot as plt\n",
        "import matplotlib.font_manager as fm\n",
        "import os\n",
        "\n",
        "# インストール（省略可：一度済んでいれば）\n",
        "!apt-get -y install fonts-ipafont-gothic > /dev/null\n",
        "\n",
        "# 明示的にフォントを指定\n",
        "font_path = \"/usr/share/fonts/truetype/ipafont-gothic/ipag.ttf\"\n",
        "\n",
        "# フォント読み込み（必ず定義する）\n",
        "if os.path.exists(font_path):\n",
        "    font_prop = fm.FontProperties(fname=font_path)\n",
        "else:\n",
        "    print(\"❗フォントファイルが見つかりません。\")\n",
        "    font_prop = None\n",
        "\n",
        "# ✅ rcParams['font.family'] を設定しない ← これがポイント！\n",
        "\n",
        "# 日本語テスト（ここだけで font_prop を使う）\n",
        "plt.title(\"日本語タイトル\", fontproperties=font_prop)\n",
        "plt.xlabel(\"横軸\", fontproperties=font_prop)\n",
        "plt.ylabel(\"縦軸\", fontproperties=font_prop)\n",
        "plt.plot([1, 2, 3], [10, 20, 30])\n",
        "plt.grid(True)\n",
        "plt.show()\n"
      ],
      "metadata": {
        "id": "PY9H86XNUJFW"
      },
      "execution_count": null,
      "outputs": []
    },
    {
      "cell_type": "code",
      "source": [
        "# ✅ 日本語フォントをインストール（Colab 環境用）\n",
        "!apt-get -y install fonts-ipafont-gothic > /dev/null\n",
        "\n",
        "# ✅ matplotlib のフォントキャッシュを削除 → 強制的に再構築\n",
        "import matplotlib\n",
        "import matplotlib.pyplot as plt\n",
        "import matplotlib.font_manager as fm\n",
        "import shutil\n",
        "import os\n",
        "\n",
        "# フォントキャッシュの削除（これが超重要）\n",
        "cache_dir = os.path.expanduser(\"~/.cache/matplotlib\")\n",
        "if os.path.exists(cache_dir):\n",
        "    shutil.rmtree(cache_dir)\n",
        "\n",
        "# IPAGothic のパスを再取得\n",
        "font_path = \"/usr/share/fonts/truetype/ipafont-gothic/ipag.ttf\"\n",
        "if os.path.exists(font_path):\n",
        "    font_prop = fm.FontProperties(fname=font_path)\n",
        "else:\n",
        "    print(\"❗フォントファイルが見つかりません。\")\n",
        "    font_prop = None\n",
        "\n",
        "# ✅ 日本語でタイトル付きグラフを描画\n",
        "plt.title(\"テスト：日本語が表示されるか？\", fontproperties=font_prop)\n",
        "plt.xlabel(\"横軸\", fontproperties=font_prop)\n",
        "plt.ylabel(\"縦軸\", fontproperties=font_prop)\n",
        "plt.plot([1, 2, 3], [10, 20, 30])\n",
        "plt.grid(True)\n",
        "plt.show()\n"
      ],
      "metadata": {
        "id": "9w1D5iXjVeC0"
      },
      "execution_count": null,
      "outputs": []
    },
    {
      "cell_type": "code",
      "source": [
        "!ls /usr/share/fonts/truetype/ipafont-gothic"
      ],
      "metadata": {
        "id": "foO2InRzVovu"
      },
      "execution_count": null,
      "outputs": []
    },
    {
      "cell_type": "code",
      "source": [
        "import matplotlib.pyplot as plt\n",
        "\n",
        "# 以前に設定されたフォント設定をリセット\n",
        "plt.rcdefaults()\n"
      ],
      "metadata": {
        "id": "5faVvXo5gqCt"
      },
      "execution_count": null,
      "outputs": []
    },
    {
      "cell_type": "code",
      "source": [
        "import os\n",
        "import matplotlib.pyplot as plt\n",
        "import matplotlib.font_manager as fm\n",
        "\n",
        "# ✅ Googleの日本語フォント「Noto Sans CJK JP」をインストール\n",
        "!apt-get -y install fonts-noto-cjk > /dev/null\n",
        "\n",
        "# ✅ Notoフォントを取得\n",
        "font_path = \"/usr/share/fonts/opentype/noto/NotoSansCJK-Regular.ttc\"\n",
        "if os.path.exists(font_path):\n",
        "    font_prop = fm.FontProperties(fname=font_path)\n",
        "else:\n",
        "    print(\"❗フォントが見つかりません。\")\n",
        "    font_prop = None\n",
        "\n",
        "# ✅ グラフを描画（フォントプロパティ指定）\n",
        "plt.title(\"Notoフォントによる日本語表示テスト\", fontproperties=font_prop)\n",
        "plt.xlabel(\"横軸\", fontproperties=font_prop)\n",
        "plt.ylabel(\"縦軸\", fontproperties=font_prop)\n",
        "plt.plot([1, 2, 3], [10, 20, 30])\n",
        "plt.grid(True)\n",
        "plt.show()\n"
      ],
      "metadata": {
        "id": "thwCww8zgADA"
      },
      "execution_count": null,
      "outputs": []
    },
    {
      "cell_type": "code",
      "source": [
        "# Signateのテンプレート作成_ver.3.0\n",
        "\n",
        "# 作成日：2025/05/08\n",
        "# 更新日：2025/05/11\n",
        "# 内容：テンプレ作成／マウント処理追加／日本語フォント追加／描画の日本語対応／\n",
        "\n",
        "import os\n",
        "import pandas as pd\n",
        "import numpy as np\n",
        "import matplotlib.pyplot as plt\n",
        "import matplotlib.font_manager as fm\n",
        "import seaborn as sns\n",
        "from sklearn.preprocessing import LabelEncoder\n",
        "from sklearn.linear_model import LinearRegression\n",
        "from sklearn.metrics import mean_squared_error\n",
        "from math import sqrt\n",
        "\n",
        "# Google Driveへのマウント処理\n",
        "import os\n",
        "from google.colab import drive\n",
        "\n",
        "def safe_mount_drive():\n",
        "    try:\n",
        "        from google.colab import drive\n",
        "        if not os.path.ismount('/content/drive'):\n",
        "            drive.mount('/content/drive')\n",
        "            print(\"✅ Google Driveが正常にマウントされました。\")\n",
        "        else:\n",
        "            print(\"✅ Google Driveは既にマウントされています。\")\n",
        "    except ImportError:\n",
        "        print(\"⚠️ このコードはColab専用です。ローカル環境では不要です。\")\n",
        "safe_mount_drive()\n",
        "\n",
        "# ✅ Notoフォントを取得\n",
        "font_path = \"/usr/share/fonts/opentype/noto/NotoSansCJK-Regular.ttc\"\n",
        "if os.path.exists(font_path):\n",
        "    font_prop = fm.FontProperties(fname=font_path)\n",
        "else:\n",
        "    print(\"❗フォントが見つかりません。\")\n",
        "    font_prop = None\n",
        "\n",
        "# ✅ グラフを描画（フォントプロパティ指定）\n",
        "plt.title(\"Notoフォントによる日本語表示テスト\", fontproperties=font_prop)\n",
        "plt.xlabel(\"横軸\", fontproperties=font_prop)\n",
        "plt.ylabel(\"縦軸\", fontproperties=font_prop)\n",
        "plt.plot([1, 2, 3], [10, 20, 30])\n",
        "plt.grid(True)\n",
        "plt.show()\n",
        "\n",
        "# ファイル読み込み関数（存在チェックあり）\n",
        "def load_csv(file_path):\n",
        "    if os.path.exists(file_path):\n",
        "        print(f\"✅ {file_path} を読み込みます。\")\n",
        "        return pd.read_csv(file_path, encoding=\"utf-8-sig\")\n",
        "    else:\n",
        "        print(f\"❌ ファイルが見つかりません: {file_path}\")\n",
        "        return None\n",
        "\n",
        "# CSVファイル(train,test)の読み込み\n",
        "train = load_csv(\"/content/drive/MyDrive/signate/お弁当販売予測_train.csv\") # ← 正しいファイル名に変える\n",
        "test = load_csv(\"/content/drive/MyDrive/signate/お弁当販売予測_test.csv\") # ← 正しいファイル名に変える\n",
        "\n",
        "# CSVファイル(sample)の読み込み\n",
        "# 変数名は統一、ファイル名だけ変更できるようにする\n",
        "# sample_submission.csv / sample.csv / submit_example.csv などに対応\n",
        "sample_file_name = \"/content/drive/MyDrive/signate/お弁当販売予測_sample.csv\"  # ← ここ変えればOK\n",
        "sample_submission = load_csv(sample_file_name)\n",
        "\n",
        "# --- 基本情報の確認 ---\n",
        "print(\"\\n--- train.info() ---\")\n",
        "train.info()\n",
        "print(\"\\n--- train.describe() ---\")\n",
        "print(train.describe())\n",
        "print(\"\\n--- train.head() ---\")\n",
        "print(train.head())\n",
        "\n",
        "# --- 相関ヒートマップ ---\n",
        "corr = train.corr(numeric_only=True)\n",
        "plt.figure(figsize=(10, 8))\n",
        "sns.heatmap(corr, annot=True, cmap=\"coolwarm\", fmt=\".2f\")\n",
        "plt.title(\"相関行列\")\n",
        "plt.show()\n",
        "\n",
        "# --- 欠損値処理（簡易） ---\n",
        "train = train.fillna(0)\n",
        "test = test.fillna(0)\n",
        "\n",
        "# --- カテゴリ変数をエンコード ---\n",
        "cat_cols = train.select_dtypes(include='object').columns\n",
        "for col in cat_cols:\n",
        "    try:\n",
        "        le = LabelEncoder()\n",
        "        train[col] = le.fit_transform(train[col].astype(str))\n",
        "        test[col] = le.transform(test[col].astype(str))\n",
        "    except Exception as e:\n",
        "        print(f\"⚠️ {col} のラベルエンコードに失敗: {e}\")\n",
        "\n",
        "# --- 特徴量と目的変数の分離 ---\n",
        "X = train.drop(columns=['y'])\n",
        "y = train['y']\n",
        "X_test = test.copy()\n",
        "\n",
        "# --- 線形回帰モデルで学習 ---\n",
        "model = LinearRegression()\n",
        "model.fit(X, y)\n",
        "\n",
        "# --- モデル評価 ---\n",
        "y_pred = model.predict(X)\n",
        "rmse = sqrt(mean_squared_error(y, y_pred))\n",
        "print(f\"\\n📊 学習データに対するRMSE: {rmse:.4f}\")\n",
        "\n",
        "# --- 予測と提出ファイルの作成 ---\n",
        "test_pred = model.predict(X_test)\n",
        "sample_submission['y'] = test_pred\n",
        "\n",
        "# --- 提出ファイルの確認 ---\n",
        "print(\"\\n--- 提出ファイル preview ---\")\n",
        "print(sample_submission.head())\n",
        "print(sample_submission.info())\n",
        "\n",
        "# --- 提出ファイルの保存 ---\n",
        "try:\n",
        "    sample_submission.to_csv(\"submission.csv\", index=False)\n",
        "    print(\"\\n✅ 提出ファイル submission.csv を保存しました。\")\n",
        "except Exception as e:\n",
        "    print(f\"❌ 提出ファイルの保存に失敗: {e}\")\n"
      ],
      "metadata": {
        "id": "xEoGffd5Iu5r",
        "collapsed": true
      },
      "execution_count": null,
      "outputs": []
    },
    {
      "cell_type": "code",
      "source": [
        "import pandas as pd\n",
        "from sklearn.ensemble import RandomForestRegressor\n",
        "from sklearn.model_selection import train_test_split\n",
        "from sklearn.compose import ColumnTransformer\n",
        "from sklearn.preprocessing import OneHotEncoder\n",
        "from sklearn.pipeline import Pipeline\n",
        "from sklearn.impute import SimpleImputer\n",
        "\n",
        "# --- データの読み込み ---\n",
        "train = pd.read_csv(\"/content/drive/MyDrive/signate/お弁当販売予測_train.csv\")\n",
        "test = pd.read_csv(\"/content/drive/MyDrive/signate/お弁当販売予測_test.csv\")\n",
        "\n",
        "# --- 目的変数とID列の設定 ---\n",
        "target_col = 'y'  # 目的変数\n",
        "id_col = 'id'     # 提出用ID\n",
        "\n",
        "# --- 特徴量の選定 ---\n",
        "X = train.drop(columns=[target_col])\n",
        "y = train[target_col]\n",
        "\n",
        "# --- カテゴリ列と数値列の分類 ---\n",
        "cat_cols = X.select_dtypes(include='object').columns.tolist()\n",
        "num_cols = X.select_dtypes(exclude='object').columns.tolist()\n",
        "\n",
        "# --- カテゴリ変数：欠損埋め + OneHotエンコード ---\n",
        "categorical_transformer = Pipeline(steps=[\n",
        "    ('imputer', SimpleImputer(strategy='constant', fill_value='missing')),\n",
        "    ('onehot', OneHotEncoder(handle_unknown='ignore'))\n",
        "])\n",
        "\n",
        "# --- 数値変数：欠損埋め ---\n",
        "numeric_transformer = Pipeline(steps=[\n",
        "    ('imputer', SimpleImputer(strategy='mean'))\n",
        "])\n",
        "\n",
        "# --- 前処理の統合 ---\n",
        "preprocessor = ColumnTransformer(transformers=[\n",
        "    ('num', numeric_transformer, num_cols),\n",
        "    ('cat', categorical_transformer, cat_cols)\n",
        "])\n",
        "\n",
        "# --- モデル構築 ---\n",
        "model = Pipeline(steps=[\n",
        "    ('preprocessor', preprocessor),\n",
        "    ('regressor', RandomForestRegressor(random_state=42))\n",
        "])\n",
        "\n",
        "# --- 学習 ---\n",
        "model.fit(X, y)\n",
        "\n",
        "# --- 予測と提出ファイルの作成 ---\n",
        "test_pred = model.predict(test)\n",
        "\n",
        "# --- 提出用CSV作成 ---\n",
        "submission = pd.DataFrame({\n",
        "    \"datetime\": test[\"datetime\"],\n",
        "    \"y\": test_pred  # ← 予測結果\n",
        "})\n",
        "submission.to_csv(\"submission.csv\", index=False)\n",
        "\n",
        "\n",
        "print(\"✅ 完了しました！submission.csv をダウンロードして提出できます。\")\n"
      ],
      "metadata": {
        "id": "sBXdBHb6Pbew"
      },
      "execution_count": null,
      "outputs": []
    },
    {
      "cell_type": "code",
      "source": [
        "# Google Driveへのマウント処理\n",
        "import os\n",
        "from google.colab import drive\n",
        "\n",
        "def safe_mount_drive():\n",
        "    try:\n",
        "        from google.colab import drive\n",
        "        if not os.path.ismount('/content/drive'):\n",
        "            drive.mount('/content/drive')\n",
        "            print(\"✅ Google Driveが正常にマウントされました。\")\n",
        "        else:\n",
        "            print(\"✅ Google Driveは既にマウントされています。\")\n",
        "    except ImportError:\n",
        "        print(\"⚠️ このコードはColab専用です。ローカル環境では不要です。\")\n",
        "safe_mount_drive()\n",
        "\n",
        "# ✅ Notoフォントを取得\n",
        "font_path = \"/usr/share/fonts/opentype/noto/NotoSansCJK-Regular.ttc\"\n",
        "if os.path.exists(font_path):\n",
        "    font_prop = fm.FontProperties(fname=font_path)\n",
        "else:\n",
        "    print(\"❗フォントが見つかりません。\")\n",
        "    font_prop = None"
      ],
      "metadata": {
        "id": "iCVFi-_o8-Mp"
      },
      "execution_count": null,
      "outputs": []
    },
    {
      "cell_type": "code",
      "source": [
        "# ライブラリのインポート\n",
        "import matplotlib.pyplot as plt\n",
        "import matplotlib.font_manager as fm\n",
        "import os\n",
        "\n",
        "# ✅ Googleの日本語フォントをインストール（Colabの場合）\n",
        "!apt-get -y install fonts-noto-cjk > /dev/null\n",
        "\n",
        "# ✅ フォントパスを指定（正しいパス）\n",
        "font_path = \"/usr/share/fonts/opentype/noto/NotoSansCJK-Regular.ttc\"\n",
        "\n",
        "# ✅ フォントが存在すれば設定を反映\n",
        "if os.path.exists(font_path):\n",
        "    font_prop = fm.FontProperties(fname=font_path)\n",
        "    plt.rcParams[\"font.family\"] = font_prop.get_name()  # ← これで一括設定！\n",
        "    print(f\"✅ フォント '{font_prop.get_name()}' が設定されました\")\n",
        "else:\n",
        "    print(\"❗フォントが見つかりませんでした\")\n"
      ],
      "metadata": {
        "id": "KOcGou7xCD2D"
      },
      "execution_count": null,
      "outputs": []
    },
    {
      "cell_type": "code",
      "source": [
        "import matplotlib.font_manager as fm\n",
        "\n",
        "font_path = \"/usr/share/fonts/opentype/noto/NotoSansCJK-Regular.ttc\"\n",
        "font_prop = fm.FontProperties(fname=font_path)\n",
        "print(\"実際のフォント名:\", font_prop.get_name())\n"
      ],
      "metadata": {
        "id": "ODcKvMHeDF5d"
      },
      "execution_count": null,
      "outputs": []
    },
    {
      "cell_type": "code",
      "source": [
        "import matplotlib.pyplot as plt\n",
        "import matplotlib.font_manager as fm\n",
        "import os\n",
        "\n",
        "# フォントパス\n",
        "font_path = \"/usr/share/fonts/opentype/noto/NotoSansCJK-Regular.ttc\"\n",
        "font_prop = fm.FontProperties(fname=font_path)\n",
        "\n",
        "# 実際のフォント名を取得\n",
        "font_name = font_prop.get_name()\n",
        "print(f\"✅ 使用するフォント名: {font_name}\")\n",
        "\n",
        "# 正しいフォント名で設定\n",
        "plt.rcParams[\"font.family\"] = font_name\n"
      ],
      "metadata": {
        "id": "txe5h5QmC7EU"
      },
      "execution_count": null,
      "outputs": []
    },
    {
      "cell_type": "code",
      "source": [
        "plt.plot([1, 2, 3], [10, 20, 30])\n",
        "plt.title(\"販売数の推移\")  # ← fontproperties=... の指定は不要！\n",
        "plt.xlabel(\"日付\")\n",
        "plt.ylabel(\"販売数\")\n",
        "plt.grid(True)\n",
        "plt.show()\n"
      ],
      "metadata": {
        "id": "7OUB19ypCIvu"
      },
      "execution_count": null,
      "outputs": []
    },
    {
      "cell_type": "code",
      "source": [
        "# Google Driveへのマウント処理\n",
        "import os\n",
        "from google.colab import drive\n",
        "\n",
        "def safe_mount_drive():\n",
        "    try:\n",
        "        from google.colab import drive\n",
        "        if not os.path.ismount('/content/drive'):\n",
        "            drive.mount('/content/drive')\n",
        "            print(\"✅ Google Driveが正常にマウントされました。\")\n",
        "        else:\n",
        "            print(\"✅ Google Driveは既にマウントされています。\")\n",
        "    except ImportError:\n",
        "        print(\"⚠️ このコードはColab専用です。ローカル環境では不要です。\")\n",
        "safe_mount_drive()"
      ],
      "metadata": {
        "id": "Fd83zTfobsCY"
      },
      "execution_count": null,
      "outputs": []
    },
    {
      "cell_type": "code",
      "source": [
        "# ✅ 日本語フォント Noto Sans CJK JP をインストール\n",
        "!apt-get -y install fonts-noto-cjk > /dev/null\n",
        "\n",
        "import matplotlib.pyplot as plt\n",
        "import matplotlib as mpl\n",
        "import matplotlib.font_manager as fm\n",
        "\n",
        "# ✅ フォントパスとプロパティの設定\n",
        "font_path = \"/usr/share/fonts/opentype/noto/NotoSansCJK-Regular.ttc\"\n",
        "font_prop = fm.FontProperties(fname=font_path)\n",
        "\n",
        "# ✅ matplotlib の全体設定に反映\n",
        "mpl.rcParams['font.family'] = font_prop.get_name()\n",
        "\n",
        "# ✅ 結果確認\n",
        "print(\"✅ フォント設定完了:\", font_prop.get_name())\n"
      ],
      "metadata": {
        "id": "PgElpzBGblqo"
      },
      "execution_count": null,
      "outputs": []
    },
    {
      "cell_type": "code",
      "source": [
        "import matplotlib.pyplot as plt\n",
        "import matplotlib.font_manager as fm\n",
        "\n",
        "# ✅ フォントのパス\n",
        "font_path = \"/usr/share/fonts/opentype/noto/NotoSansCJK-Regular.ttc\"\n",
        "\n",
        "# ✅ FontProperties オブジェクト作成\n",
        "font_prop = fm.FontProperties(fname=font_path)\n",
        "\n",
        "# ✅ フォント名確認（デバッグ用）\n",
        "print(\"✅ フォント設定:\", font_prop.get_name())\n",
        "\n",
        "# ✅ テスト描画（fontpropertiesを明示）\n",
        "plt.title(\"相関行列\", fontproperties=font_prop)\n",
        "plt.xlabel(\"横軸\", fontproperties=font_prop)\n",
        "plt.ylabel(\"縦軸\", fontproperties=font_prop)\n",
        "plt.plot([1, 2, 3], [10, 20, 30])\n",
        "plt.grid(True)\n",
        "plt.show()\n"
      ],
      "metadata": {
        "id": "OhIn_hmZcUMa"
      },
      "execution_count": null,
      "outputs": []
    },
    {
      "cell_type": "code",
      "source": [
        "import matplotlib as mpl\n",
        "\n",
        "# フォントのパスを明示的に追加（matplotlib に認識させる）\n",
        "font_path = \"/usr/share/fonts/opentype/noto/NotoSansCJK-Regular.ttc\"\n",
        "fm.fontManager.addfont(font_path)\n",
        "\n",
        "# 内部名を取得して、それを rcParams に設定\n",
        "font_prop = fm.FontProperties(fname=font_path)\n",
        "font_name = font_prop.get_name()\n",
        "mpl.rcParams['font.family'] = font_name\n",
        "\n",
        "print(\"✅ rcParamsに設定されたフォント名:\", font_name)\n"
      ],
      "metadata": {
        "id": "-0_aLOw3d_Vf"
      },
      "execution_count": null,
      "outputs": []
    },
    {
      "cell_type": "code",
      "source": [
        "# ✅ テスト描画（fontpropertiesを明示）\n",
        "plt.title(\"相関行列\", fontproperties=font_prop)\n",
        "plt.xlabel(\"横軸\", fontproperties=font_prop)\n",
        "plt.ylabel(\"縦軸\", fontproperties=font_prop)\n",
        "plt.plot([1, 2, 3], [10, 20, 30])\n",
        "plt.grid(True)\n",
        "plt.show()"
      ],
      "metadata": {
        "id": "eNrFT0ZreCBm"
      },
      "execution_count": null,
      "outputs": []
    },
    {
      "cell_type": "code",
      "source": [
        "# ✅ グラフを描画（フォントプロパティ指定）\n",
        "plt.title(\"Notoフォントによる日本語表示テスト\", fontproperties=font_prop)\n",
        "plt.xlabel(\"横軸\", fontproperties=font_prop)\n",
        "plt.ylabel(\"縦軸\", fontproperties=font_prop)\n",
        "plt.plot([1, 2, 3], [10, 20, 30])\n",
        "plt.grid(True)\n",
        "plt.show()"
      ],
      "metadata": {
        "id": "wo72dJiyeTIE"
      },
      "execution_count": null,
      "outputs": []
    },
    {
      "cell_type": "code",
      "source": [
        "\n",
        "\n",
        "# --- データの読み込み ---\n",
        "train = pd.read_csv(\"/content/drive/MyDrive/signate/お弁当販売予測_train.csv\")\n",
        "test = pd.read_csv(\"/content/drive/MyDrive/signate/お弁当販売予測_test.csv\")\n",
        "\n",
        "# --- 相関ヒートマップ ---\n",
        "corr = train.corr(numeric_only=True)\n",
        "plt.figure(figsize=(10, 8))\n",
        "sns.heatmap(corr, annot=True, cmap=\"coolwarm\", fmt=\".2f\")\n",
        "plt.title(\"相関行列\")\n",
        "plt.show()"
      ],
      "metadata": {
        "id": "M9YrNxFjoy6R"
      },
      "execution_count": null,
      "outputs": []
    },
    {
      "cell_type": "code",
      "source": [],
      "metadata": {
        "id": "msPRLGTKBdG6"
      },
      "execution_count": null,
      "outputs": []
    },
    {
      "cell_type": "code",
      "source": [
        "# Signateのテンプレート作成_ver.4.0\n",
        "\n",
        "# 作成日：2025/05/08\n",
        "# 更新日：2025/05/12\n",
        "# 内容：テンプレ作成／マウント処理追加／日本語フォント追加（保留）／描画の日本語対応（保留）／タイムスタンプとカラム削除／編集したCSVのGoogle Driveへの保存\n",
        "\n",
        "import pandas as pd\n",
        "from sklearn.ensemble import RandomForestRegressor\n",
        "from sklearn.model_selection import train_test_split\n",
        "from sklearn.compose import ColumnTransformer\n",
        "from sklearn.preprocessing import OneHotEncoder\n",
        "from sklearn.pipeline import Pipeline\n",
        "from sklearn.impute import SimpleImputer\n",
        "import os\n",
        "import shutil\n",
        "from datetime import datetime, timedelta\n",
        "\n",
        "# --- データの読み込み ---\n",
        "train_path = \"/content/drive/MyDrive/signate/お弁当販売予測_train.csv\"\n",
        "test_path = \"/content/drive/MyDrive/signate/お弁当販売予測_test.csv\"\n",
        "\n",
        "train = pd.read_csv(train_path)\n",
        "test = pd.read_csv(test_path)\n",
        "\n",
        "# --- 目的変数とID列の設定 ---\n",
        "target_col = 'y'  # 目的変数\n",
        "id_col = 'datetime'  # サブミッションIDに使う列（id→datetimeに置き換え）\n",
        "\n",
        "# --- 特徴量の選定 ---\n",
        "X = train.drop(columns=[target_col])\n",
        "y = train[target_col]\n",
        "\n",
        "# --- カテゴリ列と数値列の分類 ---\n",
        "cat_cols = X.select_dtypes(include='object').columns.tolist()\n",
        "num_cols = X.select_dtypes(exclude='object').columns.tolist()\n",
        "\n",
        "# --- カテゴリ変数：欠損埋め + OneHotエンコード ---\n",
        "categorical_transformer = Pipeline(steps=[\n",
        "    ('imputer', SimpleImputer(strategy='constant', fill_value='missing')),\n",
        "    ('onehot', OneHotEncoder(handle_unknown='ignore'))\n",
        "])\n",
        "\n",
        "# --- 数値変数：欠損埋め ---\n",
        "numeric_transformer = Pipeline(steps=[\n",
        "    ('imputer', SimpleImputer(strategy='mean'))\n",
        "])\n",
        "\n",
        "# --- 前処理の統合 ---\n",
        "preprocessor = ColumnTransformer(transformers=[\n",
        "    ('num', numeric_transformer, num_cols),\n",
        "    ('cat', categorical_transformer, cat_cols)\n",
        "])\n",
        "\n",
        "# --- モデル構築 ---\n",
        "model = Pipeline(steps=[\n",
        "    ('preprocessor', preprocessor),\n",
        "    ('regressor', RandomForestRegressor(random_state=42))\n",
        "])\n",
        "\n",
        "# --- 学習 ---\n",
        "model.fit(X, y)\n",
        "\n",
        "# --- 予測 ---\n",
        "test_pred = model.predict(test)\n",
        "\n",
        "\n",
        "\n",
        "# JST（日本時間）を取得\n",
        "jst = datetime.now() + timedelta(hours=9)\n",
        "\n",
        "# タイムスタンプ付きファイル名を生成（例: お弁当販売予測_submission_20240510_183045.csv）\n",
        "timestamp = jst.strftime(\"%Y%m%d_%H%M%S\")\n",
        "filename = f\"お弁当販売予測_submission_{timestamp}.csv\"\n",
        "\n",
        "# --- サブミッションデータ作成（カラム名なし） ---\n",
        "submission = pd.DataFrame({\n",
        "    id_col: test[id_col],\n",
        "    \"y\": test_pred\n",
        "})\n",
        "\n",
        "# ① ローカルに保存\n",
        "submission.to_csv(filename, index=False)\n",
        "print(f\"✅ 完了しました！Signate提出ファイル：{filename}を Colab に一時保存しました。\")\n",
        "\n",
        "\n",
        "# ② Google Drive に保存\n",
        "drive_path = f\"/content/drive/MyDrive/signate/{filename}\"\n",
        "shutil.copy(filename, drive_path)\n",
        "print(f\"✅ 完了しました！Signate提出ファイル：{filename}を Google Drive に保存しました。\")\n"
      ],
      "metadata": {
        "id": "dsw_DE0w_2ec"
      },
      "execution_count": null,
      "outputs": []
    }
  ]
}